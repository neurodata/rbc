{
 "cells": [
  {
   "cell_type": "code",
   "execution_count": 156,
   "id": "8eb5f817-89ae-485b-ba4f-4b2872938f76",
   "metadata": {},
   "outputs": [],
   "source": [
    "import csv\n",
    "import requests\n",
    "import warnings\n",
    "warnings.filterwarnings(\"ignore\")\n",
    "warnings.simplefilter(\"ignore\")\n",
    "from pathlib import Path\n",
    "\n",
    "import datalad.api as api\n",
    "from datalad.api import Dataset, create, copy_file, remove, clone, get\n",
    "import numpy as np\n",
    "import pandas as pd\n",
    "from scipy.spatial.distance import squareform\n",
    "from tqdm.auto import tqdm\n",
    "\n",
    "studies = [\"CCNP\", \"BHRC\", \"NKI\", \"HBN\", \"PNC\"]\n",
    "git_repos = [f\"https://github.com/ReproBrainChart/{s}_CPAC.git\" for s in studies]\n",
    "\n",
    "### Study Parameters ###\n",
    "default_dict = dict(\n",
    "    task=\"rest\",\n",
    "    run=None,\n",
    "    acq=None,\n",
    "    atlas=\"CC200\",\n",
    "    space=\"MNI152NLin6ASym\",\n",
    "    reg=\"36Parameter\",\n",
    ")\n",
    "study_parameters = {study: default_dict.copy() for study in studies}\n",
    "study_parameters[\"PNC\"][\"acq\"] = \"singleband\"\n",
    "study_parameters[\"NKI\"][\"acq\"] = \"645\"\n",
    "\n",
    "for s in [\"CCNP\", \"BHRC\", \"HBN\"]:\n",
    "    if s == \"CCNP\":\n",
    "        run = \"01\"\n",
    "    else:\n",
    "        run = \"1\"\n",
    "    study_parameters[s][\"run\"] = run\n",
    "\n",
    "### Acquisition Times in ms ###\n",
    "acquisition_times = dict(\n",
    "    CCNP = 2.5,\n",
    "    BHRC = 2.000,\n",
    "    NKI = .645,\n",
    "    HBN = dict(SI = 1.450, CBIC = .800, RU=.800, CUNY=.8),\n",
    "    PNC = 3.000\n",
    ")\n",
    "\n",
    "def compute_dynamic_connectome(fpath, window_length=60, tr=None):\n",
    "    \"\"\"\n",
    "    Parameters\n",
    "    ----------\n",
    "    window_length : int\n",
    "        Length of window to compute dynamic connectome in seconds. Default=45.\n",
    "    tr : int\n",
    "        TR in seconds\n",
    "    \"\"\"\n",
    "    assert tr is not None\n",
    "    \n",
    "    df = pd.read_csv(fpath)\n",
    "    tr_per_window = int(np.round(window_length / tr))\n",
    "\n",
    "    corrs = []\n",
    "    for i in range(len(df) - tr_per_window):\n",
    "        corr = np.corrcoef(df[i:i+tr_per_window], rowvar=False)\n",
    "        idx = np.triu_indices_from(corr)\n",
    "        corrs.append(corr[idx])\n",
    "\n",
    "    return np.array(corrs)"
   ]
  },
  {
   "cell_type": "code",
   "execution_count": 102,
   "id": "22680d51-6016-4a8b-97e8-e8fd397005ac",
   "metadata": {},
   "outputs": [],
   "source": [
    "for study in studies:\n",
    "    out_path = Path(f\"./{study}\")\n",
    "    if not out_path.exists():\n",
    "        out_path.mkdir(exist_ok=True)\n",
    "\n",
    "    url = f\"https://raw.githubusercontent.com/ReproBrainChart/{study}_BIDS/main/study-{study}_desc-participants.tsv\"\n",
    "    response = requests.get(url)\n",
    "    reader = csv.reader(response.text.splitlines(), skipinitialspace=True)\n",
    "\n",
    "    with open(out_path / f\"{study}_desc-participants.tsv\", \"w\") as f:\n",
    "        w = csv.writer(f)\n",
    "        w.writerows(reader)"
   ]
  },
  {
   "cell_type": "code",
   "execution_count": 157,
   "id": "1103b64a-00ef-440c-975a-063b4ea27858",
   "metadata": {},
   "outputs": [
    {
     "name": "stdout",
     "output_type": "stream",
     "text": [
      "Computing dynamic connectomes for HBN; Total files=2383\n"
     ]
    },
    {
     "data": {
      "application/vnd.jupyter.widget-view+json": {
       "model_id": "d5e27a8b45064c18af4b6f1bd9617c4d",
       "version_major": 2,
       "version_minor": 0
      },
      "text/plain": [
       "  0%|          | 0/2383 [00:00<?, ?it/s]"
      ]
     },
     "metadata": {},
     "output_type": "display_data"
    }
   ],
   "source": [
    "for study, study_parameter in study_parameters.items():\n",
    "    # load metadata\n",
    "    df = pd.read_csv(f\"{study}/{study}_desc-participants.tsv\", delimiter=\"\\t\")\n",
    "    df = df[~df[\"p_factor_mcelroy_harmonized_all_samples\"].isnull()]\n",
    "\n",
    "    print(f\"Computing dynamic connectomes for {study}; Total files={len(df)}\")\n",
    "\n",
    "    # Setup glob string\n",
    "    glob_str = \"*\".join(\n",
    "        [f\"{k}-{v}\" for k, v in study_parameter.items() if v is not None]\n",
    "    )\n",
    "    glob_str = \"**/*\" + glob_str + \"*Mean_timeseries.1D\"\n",
    "\n",
    "    p = Path(f\"./{study}_CPAC/cpac_RBCv0\")\n",
    "\n",
    "    # Loop over each row of metadata\n",
    "    for _, row in tqdm(df.iterrows(), total=len(df)):\n",
    "        sub_path = p / f\"sub-{row.participant_id}/ses-{row.session_id}\"\n",
    "\n",
    "        # print\n",
    "        files = list(sub_path.glob(glob_str))\n",
    "        if len(files) == 0:\n",
    "            continue\n",
    "\n",
    "        for file in files:\n",
    "            if study == 'HBN':\n",
    "                site = row.session_id[7:]\n",
    "                tr = acquisition_times[study][site]\n",
    "            else:\n",
    "                tr = acquisition_times[study]\n",
    "\n",
    "            # save file\n",
    "            out_path = Path(f\"./{study}/sub-{row.participant_id}\")\n",
    "            out_path.mkdir(parents=True, exist_ok=True)\n",
    "            out_fpath = out_path / file.name\n",
    "\n",
    "            arr = compute_dynamic_connectome(file, tr=tr)\n",
    "            np.save(out_fpath, arr)"
   ]
  }
 ],
 "metadata": {
  "kernelspec": {
   "display_name": "Python 3 (ipykernel)",
   "language": "python",
   "name": "python3"
  },
  "language_info": {
   "codemirror_mode": {
    "name": "ipython",
    "version": 3
   },
   "file_extension": ".py",
   "mimetype": "text/x-python",
   "name": "python",
   "nbconvert_exporter": "python",
   "pygments_lexer": "ipython3",
   "version": "3.10.14"
  }
 },
 "nbformat": 4,
 "nbformat_minor": 5
}
